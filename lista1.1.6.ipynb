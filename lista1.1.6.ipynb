{
 "cells": [
  {
   "cell_type": "markdown",
   "id": "ff3a3c6b",
   "metadata": {},
   "source": [
    "### 6. determine o n-esimo termo e a soma dos termos de uma progress˜ao aritm´etica onde n, primeiro termo e a razão são dados pelo usuário.\n"
   ]
  },
  {
   "cell_type": "code",
   "execution_count": 15,
   "id": "a00e7ae9",
   "metadata": {},
   "outputs": [],
   "source": [
    "# Atribuição de variaveis\n",
    "\n",
    "n = 0\n",
    "pa_0 = 0\n",
    "pa_n = 0\n",
    "r = 0\n",
    "soma_pa = 0"
   ]
  },
  {
   "cell_type": "code",
   "execution_count": 16,
   "id": "33dae7f5",
   "metadata": {},
   "outputs": [
    {
     "name": "stdout",
     "output_type": "stream",
     "text": [
      "Quantidade de termos (n): 10\n",
      "Primeiro termo: 1\n",
      "Razão: 2\n"
     ]
    }
   ],
   "source": [
    "# Entrada de dados\n",
    "\n",
    "n = float(input(\"Quantidade de termos (n): \"))\n",
    "pa_0 = float(input(\"Primeiro termo: \"))\n",
    "r = float(input(\"Razão: \"))"
   ]
  },
  {
   "cell_type": "code",
   "execution_count": 17,
   "id": "ffb40879",
   "metadata": {},
   "outputs": [],
   "source": [
    "# Processamento de dados\n",
    "\n",
    "pa_n = pa_0 + (n-1)*r\n",
    "soma_pa = (n*(pa_0 + pa_n))/2"
   ]
  },
  {
   "cell_type": "code",
   "execution_count": 18,
   "id": "51fb2bb4",
   "metadata": {},
   "outputs": [
    {
     "name": "stdout",
     "output_type": "stream",
     "text": [
      "A progressão aritimética que contém 10.0 termos, começando pelo termo 1.0 e de razão 2.0, resulta no termo final 19.0 e a soma de seus termos é 100.0\n"
     ]
    }
   ],
   "source": [
    "# Saída de dados\n",
    "print(f'A progressão aritimética que contém {n} termos, começando pelo termo {pa_0} e de razão {r}, resulta no termo final {pa_n} e a soma de seus termos é {soma_pa}')"
   ]
  },
  {
   "cell_type": "code",
   "execution_count": null,
   "id": "ebcc206b",
   "metadata": {},
   "outputs": [],
   "source": []
  }
 ],
 "metadata": {
  "kernelspec": {
   "display_name": "Python 3 (ipykernel)",
   "language": "python",
   "name": "python3"
  },
  "language_info": {
   "codemirror_mode": {
    "name": "ipython",
    "version": 3
   },
   "file_extension": ".py",
   "mimetype": "text/x-python",
   "name": "python",
   "nbconvert_exporter": "python",
   "pygments_lexer": "ipython3",
   "version": "3.10.9"
  }
 },
 "nbformat": 4,
 "nbformat_minor": 5
}
